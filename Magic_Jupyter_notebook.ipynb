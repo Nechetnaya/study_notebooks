{
 "cells": [
  {
   "cell_type": "markdown",
   "id": "e2c5bc5a",
   "metadata": {},
   "source": [
    "## magic by jupyter notebook"
   ]
  },
  {
   "cell_type": "markdown",
   "id": "4ae48f56",
   "metadata": {},
   "source": [
    "https://dzen.ru/a/Y6l9u67GynOukmLk"
   ]
  },
  {
   "cell_type": "markdown",
   "id": "13c4afb7",
   "metadata": {},
   "source": [
    "`%%time` and `%time`: time of execution  \n",
    "`%timeit`: Засечь время выполнения одной строки кода\n",
    "\n",
    "`%%writefile <filename>`: write to file  \n",
    "\n",
    "`%%html`: chose language \n",
    "\n",
    "`%who`: Перечислить все переменные.\n",
    "\n",
    "`%lsmagic`: просмотреть список всех магических команд, запустив команда  \n",
    "`?` узнать больше о конкретной магической команде"
   ]
  },
  {
   "cell_type": "markdown",
   "id": "e570590b",
   "metadata": {},
   "source": [
    "`;` убрать вывод"
   ]
  },
  {
   "cell_type": "markdown",
   "id": "15877d25",
   "metadata": {},
   "source": [
    "увеличить макс колл-во столбцов/строк в пандас  \n",
    "`pd.options.display.max_rows = 100`   \n",
    "`pd.options.display.max_columns = 50`"
   ]
  }
 ],
 "metadata": {
  "kernelspec": {
   "display_name": "Python 3 (ipykernel)",
   "language": "python",
   "name": "python3"
  },
  "language_info": {
   "codemirror_mode": {
    "name": "ipython",
    "version": 3
   },
   "file_extension": ".py",
   "mimetype": "text/x-python",
   "name": "python",
   "nbconvert_exporter": "python",
   "pygments_lexer": "ipython3",
   "version": "3.11.5"
  }
 },
 "nbformat": 4,
 "nbformat_minor": 5
}
