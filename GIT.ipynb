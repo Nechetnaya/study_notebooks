{
 "cells": [
  {
   "cell_type": "markdown",
   "id": "c3dc93b7",
   "metadata": {},
   "source": [
    "### Создание проекта в гите"
   ]
  },
  {
   "cell_type": "code",
   "execution_count": null,
   "id": "24530531",
   "metadata": {},
   "outputs": [],
   "source": [
    "git init"
   ]
  },
  {
   "cell_type": "markdown",
   "id": "7c1d7465",
   "metadata": {},
   "source": [
    "### Просмотр статуса/изменений"
   ]
  },
  {
   "cell_type": "code",
   "execution_count": null,
   "id": "6d1a3044",
   "metadata": {},
   "outputs": [],
   "source": [
    "# проверка статуса,коммитов\n",
    "\n",
    "git status\n",
    "git log --graph\n",
    "git log --all --graph"
   ]
  },
  {
   "cell_type": "code",
   "execution_count": null,
   "id": "58d20ff8",
   "metadata": {},
   "outputs": [],
   "source": [
    "# просмотр изменений\n",
    "\n",
    "# в стейджинге\n",
    "git diff --stage\n",
    "\n",
    "# между текущим коммитом и главной веткой\n",
    "git diff main HEAD\n",
    "\n",
    "# между ветками\n",
    "git diff main <branch_name>"
   ]
  },
  {
   "cell_type": "markdown",
   "id": "f92e6b4a",
   "metadata": {},
   "source": [
    "### Добавления коммита"
   ]
  },
  {
   "cell_type": "code",
   "execution_count": null,
   "id": "a8a9e732",
   "metadata": {},
   "outputs": [],
   "source": [
    "# добавление изменений\n",
    "git add\n",
    "git commit -m\n",
    "git push"
   ]
  },
  {
   "cell_type": "markdown",
   "id": "24029d46",
   "metadata": {},
   "source": [
    "### Добавления тега"
   ]
  },
  {
   "cell_type": "code",
   "execution_count": null,
   "id": "304e8453",
   "metadata": {},
   "outputs": [],
   "source": [
    "git tag <tag_name>"
   ]
  },
  {
   "cell_type": "markdown",
   "id": "9270129f",
   "metadata": {},
   "source": [
    "### ВЕТКИ"
   ]
  },
  {
   "cell_type": "code",
   "execution_count": null,
   "id": "e6f66539",
   "metadata": {},
   "outputs": [],
   "source": [
    "# переход к коммиту в истории\n",
    "git checkout <hash>\n",
    "\n",
    "# на n коммитов назад\n",
    "git HEAD~n\n",
    "\n",
    "# возврат в основуную ветку на коммит с указаелем main \n",
    "git checkout <main>"
   ]
  },
  {
   "cell_type": "code",
   "execution_count": null,
   "id": "e6e75425",
   "metadata": {},
   "outputs": [],
   "source": [
    "# создание новой ветки\n",
    "git branch <branch_name>\n",
    "\n",
    "# переход в ветку (если не существует - создание)\n",
    "git checkout -b <branch_name>\n",
    "\n",
    "# узнать текущию ветку\n",
    "git branch"
   ]
  },
  {
   "cell_type": "code",
   "execution_count": null,
   "id": "2b509a51",
   "metadata": {},
   "outputs": [],
   "source": [
    "# слияние веток\n",
    "git merge <branch_name>"
   ]
  },
  {
   "cell_type": "markdown",
   "id": "d3e81b91",
   "metadata": {},
   "source": [
    "### GitFlow and Trunk based dev"
   ]
  },
  {
   "cell_type": "code",
   "execution_count": null,
   "id": "34fb090d",
   "metadata": {},
   "outputs": [],
   "source": [
    "# GitFlow\n",
    "\n",
    "______________________________________*___main   \n",
    "   \\------------------*------------*-/ \\-------dev   \n",
    "        \\    \\-------/feature     /         \\--------\n",
    "         \\-----------------------/ feature"
   ]
  },
  {
   "cell_type": "code",
   "execution_count": null,
   "id": "fa62e93c",
   "metadata": {},
   "outputs": [],
   "source": [
    "# Trunk based dev\n",
    "\n",
    "\n",
    "         /-----------\\short brunch\n",
    "________________*______*_________ main\n",
    "    \\----------/short brunch   \\-----       "
   ]
  },
  {
   "cell_type": "markdown",
   "id": "13f44fcc",
   "metadata": {},
   "source": [
    "### Remote"
   ]
  },
  {
   "cell_type": "code",
   "execution_count": null,
   "id": "4b99b6e8",
   "metadata": {},
   "outputs": [],
   "source": [
    "# скачать репозиторий\n",
    "\n",
    "git clone"
   ]
  },
  {
   "cell_type": "code",
   "execution_count": null,
   "id": "7fca7e65",
   "metadata": {},
   "outputs": [],
   "source": [
    "git push\n",
    "git pull"
   ]
  },
  {
   "cell_type": "code",
   "execution_count": null,
   "id": "289439f3",
   "metadata": {},
   "outputs": [],
   "source": [
    "# создание копии чужого репозитория к себе gitlab\n",
    "\n",
    "fork"
   ]
  },
  {
   "cell_type": "code",
   "execution_count": null,
   "id": "9b4b432b",
   "metadata": {},
   "outputs": [],
   "source": [
    "# загрузка локального проекта на сервер\n",
    "\n",
    "git remote add origin <url_server>\n",
    "git push --all  # отправить все ветки\n",
    "git push --tags # отправить теги"
   ]
  },
  {
   "cell_type": "code",
   "execution_count": null,
   "id": "0760bc3d",
   "metadata": {},
   "outputs": [],
   "source": [
    "# проверка удаленного репо\n",
    "\n",
    "git remote -v\n",
    "\n",
    "\n",
    "# изменение удаленного репа для пулов или пушей\n",
    "\n",
    "git remote set-url --fetch origin <новый-fetch-репозиторий-URL>\n",
    "git remote set-url --push origin <новый-push-репозиторий-URL>"
   ]
  }
 ],
 "metadata": {
  "kernelspec": {
   "display_name": "Python 3 (ipykernel)",
   "language": "python",
   "name": "python3"
  },
  "language_info": {
   "codemirror_mode": {
    "name": "ipython",
    "version": 3
   },
   "file_extension": ".py",
   "mimetype": "text/x-python",
   "name": "python",
   "nbconvert_exporter": "python",
   "pygments_lexer": "ipython3",
   "version": "3.11.5"
  }
 },
 "nbformat": 4,
 "nbformat_minor": 5
}
