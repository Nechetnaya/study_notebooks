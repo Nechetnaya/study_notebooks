{
 "cells": [
  {
   "cell_type": "markdown",
   "id": "af7e907f",
   "metadata": {},
   "source": [
    "## файл для подключения БД \n",
    "\n"
   ]
  },
  {
   "cell_type": "code",
   "execution_count": 4,
   "id": "5c17387e",
   "metadata": {},
   "outputs": [],
   "source": [
    "from sqlalchemy import create_engine, Column, Integer, String\n",
    "from sqlalchemy.ext.declarative import declarative_base\n",
    "from sqlalchemy.orm import sessionmaker"
   ]
  },
  {
   "cell_type": "code",
   "execution_count": null,
   "id": "ef87f511",
   "metadata": {},
   "outputs": [],
   "source": [
    "### создаем подключение \n",
    "SQLALCHEMY_DATABASE_URL = \"\" # строка подключения к бд\n",
    "\n",
    "engine = create_engine(SQLALCHEMY_DATABASE_URL) # прослойка к БД\n",
    "SessionLocal = sessionmaker(autocommit=False, autoflush=False, bind=engine) # создатель сессии\n",
    "\n",
    "Base = declarative_base() # базовый класс - схема объекта"
   ]
  },
  {
   "cell_type": "markdown",
   "id": "4ccacf13",
   "metadata": {},
   "source": [
    "## защита пароля"
   ]
  },
  {
   "cell_type": "code",
   "execution_count": null,
   "id": "2c660d21",
   "metadata": {},
   "outputs": [],
   "source": [
    "# переменные окружения\n",
    "import os\n",
    "\n",
    "\n",
    "# bash way (not the best)________\n",
    "# export POSTGRES_USER=irina\n",
    "# export POSTGRES_PASSWORD=011192543\n",
    "# export ...\n",
    "\n",
    "\n",
    "# file .env\n",
    "POSTGRES_USER=myuser\n",
    "POSTGRES_PASSWORD=mypassword\n",
    "POSTGRES_HOST=localhost\n",
    "POSTGRES_PORT=5432\n",
    "POSTGRES_DATABASE=mydatabase\n",
    "\n",
    "#bash: `source .env`\n",
    "\n",
    "# .env в коде:\n",
    "# install python-dotenv\n",
    "import os\n",
    "from dotenv import load_dotenv\n",
    "\n",
    "# Загружаем переменные окружения из .env\n",
    "load_dotenv()\n",
    "\n",
    "# Читаем их\n",
    "user = os.getenv(\"POSTGRES_USER\")\n",
    "password = os.getenv(\"POSTGRES_PASSWORD\")\n",
    "host = os.getenv(\"POSTGRES_HOST\")\n",
    "port = os.getenv(\"POSTGRES_PORT\")\n",
    "database = os.getenv(\"POSTGRES_DATABASE\")\n",
    "\n",
    "SQLALCHEMY_DATABASE_URL = f\"postgresql://{user}:{password}@{host}:{port}/{database}\"\n"
   ]
  },
  {
   "cell_type": "markdown",
   "id": "4aef7b28",
   "metadata": {},
   "source": [
    "## файл с моделями\n",
    "\n"
   ]
  },
  {
   "cell_type": "markdown",
   "id": "95b9c5fc",
   "metadata": {},
   "source": [
    "### создаем сущности"
   ]
  },
  {
   "cell_type": "code",
   "execution_count": null,
   "id": "38ea77b5",
   "metadata": {},
   "outputs": [],
   "source": [
    "# схема отношения юзер\n",
    "class User(Base):\n",
    "    __tabelname__ = \"user\"\n",
    "    __table.args__ = {'scema': 'cd'}\n",
    "    id = Column(Integer, primery_key=True, name='')\n",
    "    name = Column(String)\n",
    "    surname = Column(String)\n",
    "    age = Column(Integer)\n",
    "    \n",
    "# при запуске файла напрямую (а не импорт): запускается от имени main\n",
    "if __name__ == '__main__':\n",
    "    # создание таблиц (еще нет в бд)\n",
    "    Base.metadata.create_all(engine)\n",
    "    \n",
    "\n",
    "\n"
   ]
  },
  {
   "cell_type": "markdown",
   "id": "6b0f10a0",
   "metadata": {},
   "source": [
    "## скрипт \n",
    "в директории с модулями добавить файл `__init__.py`"
   ]
  },
  {
   "cell_type": "markdown",
   "id": "aacd22ff",
   "metadata": {},
   "source": [
    "### импорт модулей"
   ]
  },
  {
   "cell_type": "code",
   "execution_count": null,
   "id": "ce8a0181",
   "metadata": {},
   "outputs": [],
   "source": [
    "# добавить корень с модулями в переменные окружения PYTHONPTH\n",
    "export PYTHONPTH=$PYTHONPTH:$PWD # терминал"
   ]
  },
  {
   "cell_type": "markdown",
   "id": "00e1086b",
   "metadata": {},
   "source": [
    "### добавляем запись / сущность в бд"
   ]
  },
  {
   "cell_type": "code",
   "execution_count": null,
   "id": "b36e6d58",
   "metadata": {},
   "outputs": [],
   "source": [
    "from <dir>.models import User, SessionLocal\n",
    "\n",
    "\n",
    "if __name__ == '__main__':\n",
    "    \n",
    "    user = User(name='', surname='', age='') # создали сущность\n",
    "    \n",
    "    session = SessionLocal() # создание сeccии\n",
    "    session.add(user) # добавление операции в транзакцию - добавление сущности в БД (после завершения транзакции)\n",
    "    session.commit() # завершение транзакции, выполнение операций\n",
    "    "
   ]
  },
  {
   "cell_type": "code",
   "execution_count": null,
   "id": "1c9e6333",
   "metadata": {},
   "outputs": [],
   "source": [
    "# c обработкой ошибок\n",
    "\n",
    "from <dir>.models import User, SessionLocal\n",
    "\n",
    "if __name__ == '__main__':\n",
    "    session = SessionLocal()  # Создаем сессию\n",
    "    try:\n",
    "        user = User(name='Иван', surname='Иванов', age=30)  # Создаем нового пользователя\n",
    "        session.add(user)  # Добавляем в сессию\n",
    "        session.commit()  # Фиксируем изменения в БД\n",
    "        print(\"✅ Пользователь успешно добавлен!\")\n",
    "    except Exception as e:\n",
    "        session.rollback()  # Откатываем транзакцию, если была ошибка\n",
    "        print(f\"❌ Ошибка: {e}\")\n",
    "    finally:\n",
    "        session.close()  # Закрываем сессию\n"
   ]
  },
  {
   "cell_type": "code",
   "execution_count": null,
   "id": "d4cd66a6",
   "metadata": {},
   "outputs": [],
   "source": [
    "# Чтобы продолжать работать с объектом, его надо обновить\n",
    "session.refresh(user)  # ✅ Теперь объект снова связан с сессией\n",
    "\n",
    "\n",
    "# Лучше работать через контекстный менеджер\n",
    "with SessionLocal() as session:\n",
    "    user = session.query(User).filter_by(name=\"Иван\").first()\n",
    "    user.age = 31\n",
    "    session.commit()  # ✅ Коммитим изменения\n"
   ]
  },
  {
   "cell_type": "code",
   "execution_count": null,
   "id": "ff0db17a",
   "metadata": {},
   "outputs": [],
   "source": [
    "# dependency injection\n",
    "\n",
    "from fastapi import FastAPI, Depends, HTTPException\n",
    "from sqlalchemy.orm import Session\n",
    "from .models import User, SessionLocal\n",
    "\n",
    "app = FastAPI()\n",
    "\n",
    "def get_db():\n",
    "    with SessionLocal() as db:  # Контекстный менеджер автоматически закроет сессию\n",
    "        yield db  # Передаем сессию в зависимость\n",
    "\n",
    "\n",
    "@app.post('/user/')\n",
    "def create_user(user: User, db: Session = Depends(get_db)):\n",
    "    db.add(user)\n",
    "    db.commit()  # Фиксируем изменения\n",
    "    db.refresh(user)  # Загружаем обновленные данные из БД\n",
    "    return user\n",
    "\n",
    "\n",
    "@app.get('/user/{user_id}')\n",
    "def get_user(user_id: int, db: Session = Depends(get_db)):\n",
    "    user = db.query(User).filter(User.id == user_id).first()\n",
    "    if not user:\n",
    "        raise HTTPException(status_code=404, detail=\"User not found\")\n",
    "    return user\n"
   ]
  },
  {
   "cell_type": "markdown",
   "id": "43ff657a",
   "metadata": {},
   "source": [
    "### извлекаем данные из бд "
   ]
  },
  {
   "cell_type": "code",
   "execution_count": null,
   "id": "0d785728",
   "metadata": {},
   "outputs": [],
   "source": [
    "for user in (\n",
    "    session.query(User)\n",
    "    .filter(User.name == '')\n",
    "    .filter(User.age == 18)\n",
    "    .limit(2)\n",
    "    .all()\n",
    "):\n",
    "    print(user.id)"
   ]
  },
  {
   "cell_type": "markdown",
   "id": "bf355f8c",
   "metadata": {},
   "source": [
    "### схемы для валидации \n",
    "отдельный файл с pydentic"
   ]
  },
  {
   "cell_type": "markdown",
   "id": "ffe4850d",
   "metadata": {},
   "source": [
    "### миграция таблиц alembic"
   ]
  }
 ],
 "metadata": {
  "kernelspec": {
   "display_name": "Python 3 (ipykernel)",
   "language": "python",
   "name": "python3"
  },
  "language_info": {
   "codemirror_mode": {
    "name": "ipython",
    "version": 3
   },
   "file_extension": ".py",
   "mimetype": "text/x-python",
   "name": "python",
   "nbconvert_exporter": "python",
   "pygments_lexer": "ipython3",
   "version": "3.11.5"
  }
 },
 "nbformat": 4,
 "nbformat_minor": 5
}
