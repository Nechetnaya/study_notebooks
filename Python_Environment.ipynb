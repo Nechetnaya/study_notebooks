{
 "cells": [
  {
   "cell_type": "markdown",
   "id": "9caf0901",
   "metadata": {},
   "source": [
    "# ВНЕШНИЕ МОДУЛИ. ЭКОСИСТЕМА PYPI. УСТАНОВКА ПАКЕТОВ В ВИРТУАЛЬНЫЕ ОКРУЖЕНИЯ"
   ]
  },
  {
   "cell_type": "markdown",
   "id": "f3fe9e55",
   "metadata": {},
   "source": [
    "## Import Modules \n"
   ]
  },
  {
   "cell_type": "code",
   "execution_count": 9,
   "id": "d233f04a",
   "metadata": {},
   "outputs": [],
   "source": [
    "import datetime as dt # working with dates\n",
    "from collections import defaultdict, Counter # customs collections, ex.: \n",
    "# defaultdict - create item if not exist via func, \n",
    "# Counter returns dict with items and repits\n",
    "import json as j # for worling with json-format"
   ]
  },
  {
   "cell_type": "code",
   "execution_count": 9,
   "id": "9f7b808c",
   "metadata": {},
   "outputs": [
    {
     "name": "stdout",
     "output_type": "stream",
     "text": [
      "defaultdict(<class 'str'>, {})\n",
      "\n",
      "defaultdict(<class 'str'>, {'my_key': ''})\n"
     ]
    }
   ],
   "source": [
    "# defaultdict\n",
    "\n",
    "some_dict = defaultdict(str)\n",
    "print(some_dict)\n",
    "print(some_dict['my_key'])\n",
    "print(some_dict)"
   ]
  },
  {
   "cell_type": "code",
   "execution_count": 13,
   "id": "9f0fa96c",
   "metadata": {
    "scrolled": true
   },
   "outputs": [
    {
     "name": "stdout",
     "output_type": "stream",
     "text": [
      "Counter({1: 3, 'f': 2, 4: 1, (2, 3): 1, 7: 1})\n",
      "3\n"
     ]
    }
   ],
   "source": [
    "# Counter \n",
    "\n",
    "c = Counter([1, 4, (2, 3), 1, 7, 'f', 1, 'f'])\n",
    "print(c)\n",
    "print(c[1])"
   ]
  },
  {
   "cell_type": "markdown",
   "id": "bded1028",
   "metadata": {},
   "source": [
    "## Installing Python Modules "
   ]
  },
  {
   "cell_type": "code",
   "execution_count": null,
   "id": "3ce0081e",
   "metadata": {},
   "outputs": [],
   "source": [
    "!pip install loguru\n",
    "\n",
    "#versions: \n",
    "!pip install loguru==0.7.3"
   ]
  },
  {
   "cell_type": "markdown",
   "id": "185b2911",
   "metadata": {},
   "source": [
    "## Dependencies"
   ]
  },
  {
   "cell_type": "markdown",
   "id": "bfad7ca5",
   "metadata": {},
   "source": [
    "### save versions of modules   \n",
    "file 'requirements.txt':  \n",
    "numpy  \n",
    "loguru==0.7.3  \n",
    "pandas  \n"
   ]
  },
  {
   "cell_type": "code",
   "execution_count": null,
   "id": "9f0d1730",
   "metadata": {},
   "outputs": [],
   "source": [
    "!pip install -r requirements.txt"
   ]
  },
  {
   "cell_type": "code",
   "execution_count": 21,
   "id": "9da93cfc",
   "metadata": {},
   "outputs": [
    {
     "data": {
      "text/plain": [
       "'0.7.3'"
      ]
     },
     "execution_count": 21,
     "metadata": {},
     "output_type": "execute_result"
    }
   ],
   "source": [
    "import loguru\n",
    "\n",
    "loguru.__version__"
   ]
  },
  {
   "cell_type": "markdown",
   "id": "aaa7c170",
   "metadata": {},
   "source": [
    "## Virtual Environment (venv)"
   ]
  },
  {
   "cell_type": "code",
   "execution_count": 25,
   "id": "6f3007fc",
   "metadata": {
    "collapsed": true,
    "jupyter": {
     "outputs_hidden": true
    }
   },
   "outputs": [
    {
     "ename": "SyntaxError",
     "evalue": "invalid syntax (110913987.py, line 2)",
     "output_type": "error",
     "traceback": [
      "\u001b[0;36m  Cell \u001b[0;32mIn[25], line 2\u001b[0;36m\u001b[0m\n\u001b[0;31m    python -m venv venv\u001b[0m\n\u001b[0m              ^\u001b[0m\n\u001b[0;31mSyntaxError\u001b[0m\u001b[0;31m:\u001b[0m invalid syntax\n"
     ]
    }
   ],
   "source": [
    "# создание виртуального окружения без пакетов\n",
    "\n",
    "python -m venv env \n",
    "# venv - dir name for v. env."
   ]
  },
  {
   "cell_type": "code",
   "execution_count": null,
   "id": "9c80c45b",
   "metadata": {},
   "outputs": [],
   "source": [
    "# запуск окружения\n",
    "\n",
    "source env/bin/activate\n",
    "\n",
    "\n",
    "# установка пакетов внутри окружения - локальные версии\n",
    "\n",
    "pip install loguru==0.5.3\n",
    "# or better:\n",
    "pip install -r requirements.txt\n",
    "\n",
    "\n",
    "# выход \n",
    "\n",
    "deactivate"
   ]
  },
  {
   "cell_type": "code",
   "execution_count": null,
   "id": "fb60ae03",
   "metadata": {},
   "outputs": [],
   "source": [
    "# запуск модулей из виртуального окружения\n",
    "\n",
    "python -m jupyter notebook  "
   ]
  },
  {
   "cell_type": "code",
   "execution_count": null,
   "id": "fd336676",
   "metadata": {},
   "outputs": [],
   "source": [
    "# удалить виртуальное окружение\n",
    "\n",
    "rm -rf venv/"
   ]
  },
  {
   "cell_type": "markdown",
   "id": "d446c8c9",
   "metadata": {},
   "source": [
    "### Окружение через condo  \n",
    "https://proglib.io/p/kak-sozdat-virtualnoe-okruzhenie-v-python-i-perestat-dumat-o-zavisimostyah-2020-03-10\n"
   ]
  },
  {
   "cell_type": "code",
   "execution_count": null,
   "id": "05df2c87",
   "metadata": {},
   "outputs": [],
   "source": [
    "conda create -n env python=3.11\n",
    "conda activate env\n",
    "conda install -n env numpy \n",
    "conda list\n",
    "conda env list\n",
    "conda deactivate\n",
    "conda env remove -n env"
   ]
  },
  {
   "cell_type": "markdown",
   "id": "ffbe9ff6",
   "metadata": {},
   "source": [
    "### UV"
   ]
  },
  {
   "cell_type": "code",
   "execution_count": null,
   "id": "2adc8f5e-6d91-4b2e-8c61-026540192121",
   "metadata": {},
   "outputs": [],
   "source": [
    "!curl -LsSf https://astral.sh/uv/install.sh | sh"
   ]
  },
  {
   "cell_type": "code",
   "execution_count": null,
   "id": "f567dcd8-20ca-4311-9bf6-58da573e8cf8",
   "metadata": {},
   "outputs": [],
   "source": [
    "uv init\n",
    "\n",
    "#Initialized project "
   ]
  },
  {
   "cell_type": "code",
   "execution_count": null,
   "id": "0806873d",
   "metadata": {},
   "outputs": [],
   "source": [
    "# virtual env\n",
    "uv venv create\n",
    "source <имя_окружения>/bin/activate"
   ]
  },
  {
   "cell_type": "code",
   "execution_count": null,
   "id": "529e1d0b",
   "metadata": {},
   "outputs": [],
   "source": [
    "# add dependencies and create uv.lock\n",
    "uv add <packet>\n",
    "uv add --dev <packet> # development only\n",
    "\n",
    "# синхронизация зависимостей\n",
    "uv sync\n",
    "uv sync --no-dev # for production\n",
    "\n",
    "# update dependencies\n",
    "uv sync --upgrade\n",
    "uv remove <packet>"
   ]
  },
  {
   "cell_type": "code",
   "execution_count": 1,
   "id": "0ecb6fa1",
   "metadata": {},
   "outputs": [],
   "source": [
    "# запуск программы из под в окружения\n",
    "uv run python3 <file>"
   ]
  },
  {
   "cell_type": "code",
   "execution_count": null,
   "id": "d3fa76a0",
   "metadata": {},
   "outputs": [],
   "source": [
    "# создает проект с указанной версией\n",
    "uv init --python=3.13\n",
    "\n",
    "# устанавливает проект с указанной версией\n",
    "uv sync --python=3.13\n",
    "\n",
    "# создает лишь окружение с указанной версией\n",
    "uv venv  --python=3.13\n",
    "\n",
    "# запускает команду с указанной версией\n",
    "uv run --python=3.13 <команда>"
   ]
  },
  {
   "cell_type": "markdown",
   "id": "04782c34",
   "metadata": {},
   "source": [
    "## Точка входа"
   ]
  },
  {
   "cell_type": "code",
   "execution_count": null,
   "id": "74de4216",
   "metadata": {},
   "outputs": [],
   "source": [
    ".\n",
    "|-- pyproject.toml\n",
    "|-- uv.lock\n",
    "`-- my_application\n",
    "    |-- module.py\n",
    "    `-- scripts\n",
    "        `-- main.py"
   ]
  },
  {
   "cell_type": "code",
   "execution_count": null,
   "id": "ff43e1ac",
   "metadata": {},
   "outputs": [],
   "source": [
    "if __name__ == \"__main__\":\n",
    "    main()"
   ]
  }
 ],
 "metadata": {
  "kernelspec": {
   "display_name": "Python 3 (ipykernel)",
   "language": "python",
   "name": "python3"
  },
  "language_info": {
   "codemirror_mode": {
    "name": "ipython",
    "version": 3
   },
   "file_extension": ".py",
   "mimetype": "text/x-python",
   "name": "python",
   "nbconvert_exporter": "python",
   "pygments_lexer": "ipython3",
   "version": "3.11.5"
  }
 },
 "nbformat": 4,
 "nbformat_minor": 5
}
