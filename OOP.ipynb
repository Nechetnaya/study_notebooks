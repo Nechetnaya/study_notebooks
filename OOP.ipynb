{
 "cells": [
  {
   "cell_type": "code",
   "execution_count": 24,
   "id": "4731c92f",
   "metadata": {},
   "outputs": [],
   "source": [
    "# базовый класс для фигур\n",
    "\n",
    "class BaseFigure:\n",
    "    n_dots = None\n",
    "\n",
    "    def area(self):\n",
    "        raise NotImplementedError()\n",
    "    \n",
    "    def validate(self):\n",
    "        raise NotImplementedError()\n",
    "\n",
    "    def __init__(self):\n",
    "        self.validate()"
   ]
  },
  {
   "cell_type": "code",
   "execution_count": null,
   "id": "d11dfbc7",
   "metadata": {},
   "outputs": [],
   "source": [
    "# подкласс для треугольника\n",
    "\n",
    "class Triangle(BaseFigure):\n",
    "    n_dots = 3\n",
    "\n",
    "    def __init__(self, a, b, c):\n",
    "        self.a, self.b, self.c = a, b, c\n",
    "        super().__init__()\n",
    "    \n",
    "    def validate(self):\n",
    "        if (\n",
    "            self.a < (self.b + self.c) \n",
    "            and self.b < (self.a + self.c)\n",
    "            and self.c < (self.a + self.b)\n",
    "        ):\n",
    "            return self.a, self.b, self.c\n",
    "        else:\n",
    "            raise ValueError(\"triangle inequality does not hold\")\n",
    "            \n",
    "    @property\n",
    "    def _p(self):\n",
    "        return ((self.a + self.b + self.c) * 0.5)\n",
    "    \n",
    "    def area(self):\n",
    "        return (self._p * (self._p - self.a) * (self._p - self.b) * (self._p - self.c)) ** 0.5\n",
    "\n",
    "    \n",
    "# подкласс для прямоугольника\n",
    "\n",
    "class Rectangle(BaseFigure):\n",
    "    n_dots = 4\n",
    "\n",
    "    def __init__(self, a, b):\n",
    "        self.a, self.b = a, b\n",
    "        super().__init__()\n",
    "    \n",
    "    def area(self):\n",
    "        return self.a * self.b\n",
    "    \n",
    "    def validate(self):\n",
    "        return self.a, self.b\n",
    "    "
   ]
  },
  {
   "cell_type": "code",
   "execution_count": 29,
   "id": "85c00f68",
   "metadata": {},
   "outputs": [],
   "source": [
    "# подкласс для круга\n",
    "\n",
    "class Circle(BaseFigure):\n",
    "    n_dots = float('inf')\n",
    "    \n",
    "    def __init__(self, r):\n",
    "        self.r = r\n",
    "        super().__init__()\n",
    "    \n",
    "    def area(self):\n",
    "        return 3.14 * (self.r ** 2)\n",
    "    \n",
    "    def validate(self):\n",
    "        pass   "
   ]
  },
  {
   "cell_type": "code",
   "execution_count": 89,
   "id": "7dd30f72",
   "metadata": {},
   "outputs": [],
   "source": [
    "# магические методы на примере векторов\n",
    "\n",
    "class Vector:\n",
    "\n",
    "    def __init__(self, coords):\n",
    "        self.coords = coords\n",
    "\n",
    "# сложение \n",
    "    def __add__(self, other):\n",
    "        if len(self.coords) != len(other.coords):\n",
    "            raise ValueError(f\"left and right lengths differ: {len(self.coords)} != {len(other.coords)}\")\n",
    "        else:\n",
    "            return Vector([i + j for (i, j) in zip(self.coords, other.coords)])\n",
    "        \n",
    "# умножение\n",
    "    def __mul__(self, other):\n",
    "        if isinstance(other, Vector):\n",
    "            \n",
    "            if len(self.coords) != len(other.coords):\n",
    "                raise ValueError(f\"left and right lengths differ: {len(self.coords)} != {len(other.coords)}\")\n",
    "            else: \n",
    "                return sum([i * j for (i, j) in zip(self.coords, other.coords)])           \n",
    "        \n",
    "        elif isinstance(other, int):\n",
    "            return Vector([i * other for i in self.coords])\n",
    "        \n",
    "        else:\n",
    "            raise ValueError(f\"multipier should be integer or Vector\")\n",
    "            \n",
    "# длина вектора в Евклидовой метрике           \n",
    "    def __abs__(self):\n",
    "        return (sum([i ** 2 for i in self.coords])) ** 0.5\n",
    "    \n",
    "\n",
    "# проверка на равенство\n",
    "    def __eq__(self, other):\n",
    "        #return abs(self) == abs(other)\n",
    "        return self.coords == other.coords\n",
    "            \n",
    "\n",
    "# вывод на печать  \n",
    "    def __str__(self):\n",
    "        return f'{self.coords}'"
   ]
  },
  {
   "cell_type": "code",
   "execution_count": 90,
   "id": "d1239eac",
   "metadata": {},
   "outputs": [],
   "source": [
    "v1 = Vector([1, 2, 3])\n",
    "v2 = Vector([2, 3, 4])\n",
    "v3 = Vector([1, 2, 3, 4])"
   ]
  },
  {
   "cell_type": "code",
   "execution_count": 54,
   "id": "7f9f1589",
   "metadata": {
    "scrolled": true
   },
   "outputs": [
    {
     "data": {
      "text/plain": [
       "<__main__.Vector at 0x110fe8e90>"
      ]
     },
     "execution_count": 54,
     "metadata": {},
     "output_type": "execute_result"
    }
   ],
   "source": [
    "v4 = v1 + v2\n",
    "v4"
   ]
  },
  {
   "cell_type": "code",
   "execution_count": 55,
   "id": "48ee2f8a",
   "metadata": {
    "scrolled": true
   },
   "outputs": [
    {
     "name": "stdout",
     "output_type": "stream",
     "text": [
      "[3, 5, 7]\n"
     ]
    }
   ],
   "source": [
    "print(v4)"
   ]
  },
  {
   "cell_type": "code",
   "execution_count": 65,
   "id": "5661a5d9",
   "metadata": {},
   "outputs": [
    {
     "name": "stdout",
     "output_type": "stream",
     "text": [
      "[5, 10, 15]\n"
     ]
    }
   ],
   "source": [
    "print(v1 * 5)"
   ]
  },
  {
   "cell_type": "code",
   "execution_count": 63,
   "id": "dbce3d7f",
   "metadata": {},
   "outputs": [
    {
     "name": "stdout",
     "output_type": "stream",
     "text": [
      "20\n"
     ]
    }
   ],
   "source": [
    "print(v1 * v2)"
   ]
  },
  {
   "cell_type": "code",
   "execution_count": 75,
   "id": "3d586650",
   "metadata": {},
   "outputs": [
    {
     "data": {
      "text/plain": [
       "3.7416573867739413"
      ]
     },
     "execution_count": 75,
     "metadata": {},
     "output_type": "execute_result"
    }
   ],
   "source": [
    "abs(v1)"
   ]
  },
  {
   "cell_type": "code",
   "execution_count": 92,
   "id": "dab4809b",
   "metadata": {
    "scrolled": true
   },
   "outputs": [
    {
     "data": {
      "text/plain": [
       "True"
      ]
     },
     "execution_count": 92,
     "metadata": {},
     "output_type": "execute_result"
    }
   ],
   "source": [
    "Vector([1,2]) == Vector([1,2])"
   ]
  },
  {
   "cell_type": "code",
   "execution_count": 94,
   "id": "d5565945",
   "metadata": {},
   "outputs": [],
   "source": [
    "class ParsesCookies:\n",
    "    \n",
    "    def cookies(self):\n",
    "        return self.request.get(\"cookies\")\n",
    "    \n",
    "    def is_authed(self):\n",
    "        return 'auth_key' in self.cookies().keys()\n",
    "    \n",
    "\n",
    "class ParsesBody: \n",
    "    \n",
    "    def body(self):\n",
    "        return self.request.get(\"body\")\n",
    "    \n",
    "\n",
    "class ParsesHeaders:\n",
    "    \n",
    "    def headers(self):\n",
    "        return self.request.get(\"headers\")\n",
    "    \n",
    "    def need_json(self):\n",
    "        return self.headers().get(\"content-type\") == \"application/json\""
   ]
  },
  {
   "cell_type": "code",
   "execution_count": 119,
   "id": "4231df21",
   "metadata": {},
   "outputs": [],
   "source": [
    "import json\n",
    "\n",
    "\n",
    "class JsonHandler(ParsesBody, ParsesHeaders):\n",
    "    \n",
    "    def __init__(self, request):\n",
    "        self.request = request\n",
    "        \n",
    "    def process(self):\n",
    "        \n",
    "        if self.need_json():\n",
    "            try:\n",
    "                json_dict = json.loads(self.body())\n",
    "                return len(json_dict)\n",
    "            except json.JSONDecodeError:\n",
    "                return None\n",
    "            \n",
    "        else:\n",
    "            return None\n",
    "        "
   ]
  },
  {
   "cell_type": "code",
   "execution_count": 120,
   "id": "b35914d9",
   "metadata": {},
   "outputs": [
    {
     "data": {
      "text/plain": [
       "2"
      ]
     },
     "execution_count": 120,
     "metadata": {},
     "output_type": "execute_result"
    }
   ],
   "source": [
    "r = {'body': '{\"a\": 123, \"b\": 1234}',\n",
    "     'headers': {'content-type': 'application/json'}\n",
    "    }\n",
    "a = JsonHandler(r)\n",
    "a.process()"
   ]
  },
  {
   "cell_type": "code",
   "execution_count": 141,
   "id": "2d7f632b",
   "metadata": {},
   "outputs": [],
   "source": [
    "class SecureTextHandler(ParsesBody, ParsesCookies):\n",
    "    \n",
    "    def __init__(self,request):\n",
    "        self.request = request\n",
    "    \n",
    "    def process(self):\n",
    "        \n",
    "        if self.is_authed():\n",
    "            return len(self.body())\n",
    "        else:\n",
    "            return None"
   ]
  },
  {
   "cell_type": "code",
   "execution_count": 144,
   "id": "440b3290",
   "metadata": {},
   "outputs": [
    {
     "data": {
      "text/plain": [
       "5"
      ]
     },
     "execution_count": 144,
     "metadata": {},
     "output_type": "execute_result"
    }
   ],
   "source": [
    "r = {'cookies': {'auth_key': '123'},\n",
    "     'body': 'hello'\n",
    "    }\n",
    "b = SecureTextHandler(r)\n",
    "b.process()"
   ]
  }
 ],
 "metadata": {
  "kernelspec": {
   "display_name": "Python 3 (ipykernel)",
   "language": "python",
   "name": "python3"
  },
  "language_info": {
   "codemirror_mode": {
    "name": "ipython",
    "version": 3
   },
   "file_extension": ".py",
   "mimetype": "text/x-python",
   "name": "python",
   "nbconvert_exporter": "python",
   "pygments_lexer": "ipython3",
   "version": "3.11.5"
  }
 },
 "nbformat": 4,
 "nbformat_minor": 5
}
